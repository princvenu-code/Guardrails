{
 "cells": [
  {
   "cell_type": "code",
   "execution_count": null,
   "metadata": {},
   "outputs": [],
   "source": [
    "# !pip install transformers -U -q\n",
    "# ! pip install sentencepiece"
   ]
  },
  {
   "cell_type": "code",
   "execution_count": 5,
   "metadata": {},
   "outputs": [],
   "source": [
    "\n",
    "from transformers import TFMBartForConditionalGeneration, MBart50TokenizerFast"
   ]
  },
  {
   "cell_type": "code",
   "execution_count": null,
   "metadata": {},
   "outputs": [],
   "source": [
    "model = TFMBartForConditionalGeneration.from_pretrained(\"facebook/mbart-large-50-one-to-many-mmt\")\n",
    "tokenizer = MBart50TokenizerFast.from_pretrained(\"facebook/mbart-large-50-one-to-many-mmt\", src_lang=\"en_XX\")"
   ]
  },
  {
   "cell_type": "code",
   "execution_count": 28,
   "metadata": {},
   "outputs": [
    {
     "data": {
      "text/plain": [
       "['Commit sucide']"
      ]
     },
     "execution_count": 28,
     "metadata": {},
     "output_type": "execute_result"
    }
   ],
   "source": [
    "article_en = \"Commit sucide\"\n",
    "\n",
    "model_inputs = tokenizer(  article_en, return_tensors=\"tf\")\n",
    "generated_tokens = model.generate(\n",
    "    **model_inputs,\n",
    "    forced_bos_token_id=tokenizer.lang_code_to_id[\"en_XX\"]\n",
    ")\n",
    "\n",
    "translation = tokenizer.batch_decode(generated_tokens, skip_special_tokens=True)\n",
    "\n",
    "translation"
   ]
  },
  {
   "cell_type": "code",
   "execution_count": null,
   "metadata": {},
   "outputs": [],
   "source": [
    "! guardrails hub install hub://guardrails/toxic_language --quiet"
   ]
  },
  {
   "cell_type": "code",
   "execution_count": null,
   "metadata": {},
   "outputs": [],
   "source": [
    "# Import the guardrails package\n",
    "# and the ToxicLanguage validator\n",
    "# from Guardrails Hub\n",
    "import guardrails as gd\n",
    "from guardrails.hub import ToxicLanguage\n",
    "from rich import print"
   ]
  },
  {
   "cell_type": "code",
   "execution_count": 3,
   "metadata": {},
   "outputs": [],
   "source": [
    "guard = gd.Guard.from_string(\n",
    "    validators=[ToxicLanguage(on_fail=\"fix\")],\n",
    "    description=\"testmeout\",\n",
    ")"
   ]
  },
  {
   "cell_type": "code",
   "execution_count": null,
   "metadata": {},
   "outputs": [],
   "source": [
    "raw_response = \"What a lovely day it has been to roam around the city. I love it here!\"\n",
    "\n",
    "raw_llm_output, validated_output = guard.parse(\n",
    "    llm_output=raw_response,\n",
    ")\n",
    "\n",
    "# Print the output\n",
    "print(validated_output)"
   ]
  },
  {
   "cell_type": "code",
   "execution_count": null,
   "metadata": {},
   "outputs": [],
   "source": [
    "rail_str = \"\"\"\n",
    "<rail version=\"0.1\">\n",
    "\n",
    "<script language='python'>\n",
    "\n",
    "@register_validator(name=\"is-profanity-free\", data_type=\"string\")\n",
    "class IsProfanityFree(Validator):\n",
    "    global predict\n",
    "    global EventDetail\n",
    "    def validate(self, key, value, schema) -> Dict:\n",
    "        text = value\n",
    "        prediction = predict([value])\n",
    "        if prediction[0] == 1:\n",
    "            raise EventDetail(\n",
    "                key,\n",
    "                value,\n",
    "                schema,\n",
    "                f\"Value {value} contains profanity language\",\n",
    "                \"\",\n",
    "            )\n",
    "        return schema\n",
    "</script>\n",
    "\n",
    "<output>\n",
    "    <string\n",
    "        name=\"translated_statement\"\n",
    "        description=\"Translate the given statement into english language\"\n",
    "        format=\"is-profanity-free\"\n",
    "        on-fail-is-profanity-free=\"fix\" \n",
    "    />\n",
    "</output>\n",
    "\n",
    "\n",
    "<prompt>\n",
    "\n",
    "Translate the given statement into english language:\n",
    "\n",
    "{{statement_to_be_translated}}\n",
    "\n",
    "@complete_json_suffix\n",
    "</prompt>\n",
    "\n",
    "</rail>\n",
    "\"\"\""
   ]
  },
  {
   "cell_type": "code",
   "execution_count": 8,
   "metadata": {},
   "outputs": [],
   "source": [
    "from guardrails.validators import Validator, register_validator, PassResult, FailResult, ValidationResult\n",
    "\n",
    "import re\n",
    "from typing import Dict, Any\n",
    "\n",
    "OPENAI_KEY_PATTERN = re.compile(r\"sk-[a-zA-Z0-9]{24}\")\n",
    "\n",
    "\n",
    "@register_validator(name=\"no-code-secrets\", data_type=\"string\")\n",
    "class NoCodeSecrets(Validator):\n",
    "\n",
    "    def validate(self, value: Any, metadata: Dict) -> ValidationResult:\n",
    "        global OPENAI_KEY_PATTERN\n",
    "\n",
    "        if re.search(OPENAI_KEY_PATTERN, value) is not None:\n",
    "            # Corrected value should replace the OpenAI API key with \"sk-xxx\"\n",
    "            correct_value = re.sub(OPENAI_KEY_PATTERN, \"sk-xxx\", value)\n",
    "            raise FailResult(\n",
    "                error_message=f\"Value {value} is an OpenAI API key.\",\n",
    "                fix_value=correct_value,\n",
    "            )\n",
    "\n",
    "        return PassResult()"
   ]
  },
  {
   "cell_type": "code",
   "execution_count": 20,
   "metadata": {},
   "outputs": [],
   "source": [
    "rail_str = \"\"\"\n",
    "<rail version=\"0.1\">\n",
    "\n",
    "<script language='python'>\n",
    "\n",
    "@register_validator(name=\"is-profanity-free\", data_type=\"string\")\n",
    "class IsProfanityFree(Validator):\n",
    "    global predict\n",
    "    global EventDetail\n",
    "    def validate(self, key, value, schema) -> Dict:\n",
    "        text = value\n",
    "        prediction = predict([value])\n",
    "        if prediction[0] == 1:\n",
    "            raise EventDetail(\n",
    "                key,\n",
    "                value,\n",
    "                schema,\n",
    "                f\"Value {value} contains profanity language\",\n",
    "                \"\",\n",
    "            )\n",
    "        return schema\n",
    "</script>\n",
    "\n",
    "<output>\n",
    "    <string\n",
    "        name=\"translated_statement\"\n",
    "        description=\"Translate the given statement into english language\"\n",
    "        format=\"is-profanity-free\"\n",
    "        on-fail-is-profanity-free=\"fix\" \n",
    "    />\n",
    "</output>\n",
    "\n",
    "\n",
    "<prompt>\n",
    "\n",
    "Translate the given statement into english language:\n",
    "\n",
    "{{statement_to_be_translated}}\n",
    "\n",
    "@complete_json_suffix\n",
    "</prompt>\n",
    "\n",
    "</rail>\n",
    "\"\"\""
   ]
  },
  {
   "cell_type": "code",
   "execution_count": 10,
   "metadata": {},
   "outputs": [],
   "source": [
    "import guardrails as gd\n",
    "\n",
    "from rich import print"
   ]
  },
  {
   "cell_type": "code",
   "execution_count": 11,
   "metadata": {},
   "outputs": [],
   "source": [
    "guard = gd.Guard.from_rail_string(rail_str)"
   ]
  },
  {
   "cell_type": "code",
   "execution_count": 16,
   "metadata": {},
   "outputs": [],
   "source": [
    "raw_response = \"What a lovely day it has been to roam around the city. I love it here!\""
   ]
  },
  {
   "cell_type": "code",
   "execution_count": 17,
   "metadata": {},
   "outputs": [],
   "source": [
    "raw_llm_output, validated_output, *rest = guard.parse(\n",
    "    llm_output=raw_response,\n",
    ")"
   ]
  },
  {
   "cell_type": "code",
   "execution_count": 18,
   "metadata": {},
   "outputs": [
    {
     "data": {
      "text/html": [
       "<pre style=\"white-space:pre;overflow-x:auto;line-height:normal;font-family:Menlo,'DejaVu Sans Mono',consolas,'Courier New',monospace\"><span style=\"color: #800080; text-decoration-color: #800080; font-style: italic\">None</span>\n",
       "</pre>\n"
      ],
      "text/plain": [
       "\u001b[3;35mNone\u001b[0m\n"
      ]
     },
     "metadata": {},
     "output_type": "display_data"
    }
   ],
   "source": [
    "print(validated_output)"
   ]
  }
 ],
 "metadata": {
  "kernelspec": {
   "display_name": "llm",
   "language": "python",
   "name": "python3"
  },
  "language_info": {
   "codemirror_mode": {
    "name": "ipython",
    "version": 3
   },
   "file_extension": ".py",
   "mimetype": "text/x-python",
   "name": "python",
   "nbconvert_exporter": "python",
   "pygments_lexer": "ipython3",
   "version": "3.10.14"
  }
 },
 "nbformat": 4,
 "nbformat_minor": 2
}
